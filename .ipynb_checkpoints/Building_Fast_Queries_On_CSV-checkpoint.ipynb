{
 "cells": [
  {
   "cell_type": "markdown",
   "metadata": {},
   "source": [
    "# Building Fast Queries on a CSV file\n",
    "The aim of this project is to build faster queries for analyzing csv data\n",
    "\n",
    "## Reading the inventory\n",
    "I will use csv module to read the dataset"
   ]
  },
  {
   "cell_type": "code",
   "execution_count": 1,
   "metadata": {
    "scrolled": true
   },
   "outputs": [
    {
     "name": "stdout",
     "output_type": "stream",
     "text": [
      "['', 'Company', 'Product', 'TypeName', 'Inches', 'ScreenResolution', 'Cpu', 'Ram', 'Memory', 'Gpu', 'OpSys', 'Weight', 'Price_euros'] \n",
      "\n",
      "[['1', 'Apple', 'MacBook Pro', 'Ultrabook', '13.3', 'IPS Panel Retina Display 2560x1600', 'Intel Core i5 2.3GHz', '8GB', '128GB SSD', 'Intel Iris Plus Graphics 640', 'macOS', '1.37kg', '1339.69'], ['2', 'Apple', 'Macbook Air', 'Ultrabook', '13.3', '1440x900', 'Intel Core i5 1.8GHz', '8GB', '128GB Flash Storage', 'Intel HD Graphics 6000', 'macOS', '1.34kg', '898.94'], ['3', 'HP', '250 G6', 'Notebook', '15.6', 'Full HD 1920x1080', 'Intel Core i5 7200U 2.5GHz', '8GB', '256GB SSD', 'Intel HD Graphics 620', 'No OS', '1.86kg', '575'], ['4', 'Apple', 'MacBook Pro', 'Ultrabook', '15.4', 'IPS Panel Retina Display 2880x1800', 'Intel Core i7 2.7GHz', '16GB', '512GB SSD', 'AMD Radeon Pro 455', 'macOS', '1.83kg', '2537.45'], ['5', 'Apple', 'MacBook Pro', 'Ultrabook', '13.3', 'IPS Panel Retina Display 2560x1600', 'Intel Core i5 3.1GHz', '8GB', '256GB SSD', 'Intel Iris Plus Graphics 650', 'macOS', '1.37kg', '1803.6']]\n"
     ]
    }
   ],
   "source": [
    "import csv\n",
    "import chardet\n",
    "\n",
    "### Check the file encoding, assuming we do not know much about the data\n",
    "# with open('laptops.csv', mode='rb') as file:\n",
    "#     encoded_file = file.read()\n",
    "#     detected_encoding = chardet.detect(encoded_file)  #This gives ISO-8859-1\n",
    "# print(detected_encoding)\n",
    "\n",
    "with open(\"laptops.csv\") as file:\n",
    "    inventory = list(csv.reader(file))\n",
    "    header = inventory[0]\n",
    "    rows = inventory[1:]\n",
    "    print(header,'\\n')\n",
    "    print(rows[:5])"
   ]
  },
  {
   "cell_type": "markdown",
   "metadata": {},
   "source": [
    "Here are some queries that we will want to answer:\n",
    "1. Given a laptop id, find the corresponding data\n",
    "2. Given an amount of money, find whether there are two laptops whose total price is that given amount\n",
    "3. Identify all laptops whose price falls within a given budget\n",
    "\n",
    "## Creating Inventory Class\n",
    "Now I will create a class that represents inventory that contains different types of laptops with different properties. The methods in the class will implement the queries that we want to answer about the inventory. The data will be preprocessed to make the queries run faster."
   ]
  },
  {
   "cell_type": "code",
   "execution_count": 2,
   "metadata": {},
   "outputs": [
    {
     "name": "stdout",
     "output_type": "stream",
     "text": [
      "['', 'Company', 'Product', 'TypeName', 'Inches', 'ScreenResolution', 'Cpu', 'Ram', 'Memory', 'Gpu', 'OpSys', 'Weight', 'Price_euros'] \n",
      "\n",
      "1303\n"
     ]
    }
   ],
   "source": [
    "# from csv import reader\n",
    "class Inventory():\n",
    "    \n",
    "    def __init__(self, csv_filename):\n",
    "        with open(csv_filename) as f:\n",
    "            reader = csv.reader(f)\n",
    "            rows = list(reader)\n",
    "        self.header = rows[0]\n",
    "        self.rows = rows[1:]\n",
    "        for row in self.rows:\n",
    "            row[-1] = int(float(row[-1]))\n",
    "            \n",
    "inventory = Inventory('laptops.csv')\n",
    "header = inventory.header\n",
    "print(header,'\\n')\n",
    "print(len(inventory.rows))"
   ]
  },
  {
   "cell_type": "markdown",
   "metadata": {},
   "source": [
    "## Finding a laptop from ID\n",
    "Now I will implement a way to look up a laptop from a given identifier. This way, when a customer comes to our store with a purchase slip, we can quickly identify the laptop to which it corresponds."
   ]
  },
  {
   "cell_type": "code",
   "execution_count": 3,
   "metadata": {},
   "outputs": [
    {
     "name": "stdout",
     "output_type": "stream",
     "text": [
      "['15', 'Apple', 'MacBook 12\"', 'Ultrabook', '12', 'IPS Panel Retina Display 2304x1440', 'Intel Core M m3 1.2GHz', '8GB', '256GB SSD', 'Intel HD Graphics 615', 'macOS', '0.92kg', 1262]\n"
     ]
    }
   ],
   "source": [
    "class Inventory():\n",
    "    \n",
    "    def __init__(self, csv_filename):\n",
    "        with open(csv_filename) as f:\n",
    "            reader = csv.reader(f)\n",
    "            rows = list(reader)\n",
    "            \n",
    "        self.header = rows[0]\n",
    "        self.rows = rows[1:]\n",
    "        \n",
    "        for row in self.rows:\n",
    "            row[-1] = int(float(row[-1]))\n",
    "            \n",
    "    def get_laptop_from_id(self, laptop_id):\n",
    "        for row in self.rows:\n",
    "            if row[0] == laptop_id:\n",
    "                return row\n",
    "        return None\n",
    "            \n",
    "inventory = Inventory('laptops.csv')\n",
    "inventory1 = inventory.get_laptop_from_id('15')   #The csv file does not include IDs\n",
    "print(inventory1)"
   ]
  },
  {
   "cell_type": "markdown",
   "metadata": {},
   "source": [
    "## Improving the ID lookups algorithm\n",
    "In the previous cell, the algorithm had a time complexity of O(R) where R is thenumber of rows. Now I will use a more efficient way to process the data using a dictionary/set, this was we will have a constant time complexity."
   ]
  },
  {
   "cell_type": "code",
   "execution_count": 4,
   "metadata": {},
   "outputs": [
    {
     "name": "stdout",
     "output_type": "stream",
     "text": [
      "['15', 'Apple', 'MacBook 12\"', 'Ultrabook', '12', 'IPS Panel Retina Display 2304x1440', 'Intel Core M m3 1.2GHz', '8GB', '256GB SSD', 'Intel HD Graphics 615', 'macOS', '0.92kg', 1262]\n"
     ]
    }
   ],
   "source": [
    "class Inventory():\n",
    "    \n",
    "    def __init__(self, csv_filename):\n",
    "        with open(csv_filename) as f:\n",
    "            reader = csv.reader(f)\n",
    "            rows = list(reader)\n",
    "            \n",
    "        self.header = rows[0]\n",
    "        self.rows = rows[1:]\n",
    "        for row in self.rows:\n",
    "            row[-1] = int(float(row[-1]))\n",
    "        \n",
    "        self.if_to_row = {}\n",
    "        for row in self.rows:\n",
    "            self.if_to_row[row[0]] = row\n",
    "        \n",
    "    def get_laptop_from_id(self, laptop_id):\n",
    "        for row in self.rows:\n",
    "            if row[0] == laptop_id:\n",
    "                return row\n",
    "        return None\n",
    "    \n",
    "    def get_laptop_from_id_fast(self, laptop_id):\n",
    "        for row in self.if_to_row:\n",
    "            return self.if_to_row[laptop_id]\n",
    "        return None\n",
    "    \n",
    "inventory = Inventory('laptops.csv')\n",
    "inventory2 = inventory.get_laptop_from_id_fast('15')\n",
    "print(inventory2)"
   ]
  },
  {
   "cell_type": "markdown",
   "metadata": {},
   "source": [
    "## Comparing the performance of both algorithms\n",
    "The `get_laptop_from_id()` method has time complexity O(R), R is the number of rows. The new method has time complexity of O(1) meaning it is faster, but the trade-off is with the storage size, since it has to create a dictionary first. Now I will compare the performance of both methods."
   ]
  },
  {
   "cell_type": "code",
   "execution_count": 5,
   "metadata": {},
   "outputs": [
    {
     "ename": "KeyError",
     "evalue": "'2281309'",
     "output_type": "error",
     "traceback": [
      "\u001b[1;31m---------------------------------------------------------------------------\u001b[0m",
      "\u001b[1;31mKeyError\u001b[0m                                  Traceback (most recent call last)",
      "\u001b[1;32m<ipython-input-5-4520c6a6e189>\u001b[0m in \u001b[0;36m<module>\u001b[1;34m\u001b[0m\n\u001b[0;32m     16\u001b[0m \u001b[1;32mfor\u001b[0m \u001b[0mi\u001b[0m \u001b[1;32min\u001b[0m \u001b[0mids\u001b[0m\u001b[1;33m:\u001b[0m\u001b[1;33m\u001b[0m\u001b[1;33m\u001b[0m\u001b[0m\n\u001b[0;32m     17\u001b[0m     \u001b[0mstart\u001b[0m \u001b[1;33m=\u001b[0m \u001b[0mtime\u001b[0m\u001b[1;33m.\u001b[0m\u001b[0mtime\u001b[0m\u001b[1;33m(\u001b[0m\u001b[1;33m)\u001b[0m\u001b[1;33m\u001b[0m\u001b[1;33m\u001b[0m\u001b[0m\n\u001b[1;32m---> 18\u001b[1;33m     \u001b[0minventory\u001b[0m\u001b[1;33m.\u001b[0m\u001b[0mget_laptop_from_id_fast\u001b[0m\u001b[1;33m(\u001b[0m\u001b[0mi\u001b[0m\u001b[1;33m)\u001b[0m\u001b[1;33m\u001b[0m\u001b[1;33m\u001b[0m\u001b[0m\n\u001b[0m\u001b[0;32m     19\u001b[0m     \u001b[0mend\u001b[0m \u001b[1;33m=\u001b[0m \u001b[0mtime\u001b[0m\u001b[1;33m.\u001b[0m\u001b[0mtime\u001b[0m\u001b[1;33m(\u001b[0m\u001b[1;33m)\u001b[0m\u001b[1;33m\u001b[0m\u001b[1;33m\u001b[0m\u001b[0m\n\u001b[0;32m     20\u001b[0m     \u001b[0mtotal_time_dict\u001b[0m \u001b[1;33m+=\u001b[0m \u001b[0mend\u001b[0m \u001b[1;33m-\u001b[0m \u001b[0mstart\u001b[0m\u001b[1;33m\u001b[0m\u001b[1;33m\u001b[0m\u001b[0m\n",
      "\u001b[1;32m<ipython-input-4-af37f110122d>\u001b[0m in \u001b[0;36mget_laptop_from_id_fast\u001b[1;34m(self, laptop_id)\u001b[0m\n\u001b[0;32m     23\u001b[0m     \u001b[1;32mdef\u001b[0m \u001b[0mget_laptop_from_id_fast\u001b[0m\u001b[1;33m(\u001b[0m\u001b[0mself\u001b[0m\u001b[1;33m,\u001b[0m \u001b[0mlaptop_id\u001b[0m\u001b[1;33m)\u001b[0m\u001b[1;33m:\u001b[0m\u001b[1;33m\u001b[0m\u001b[1;33m\u001b[0m\u001b[0m\n\u001b[0;32m     24\u001b[0m         \u001b[1;32mfor\u001b[0m \u001b[0mrow\u001b[0m \u001b[1;32min\u001b[0m \u001b[0mself\u001b[0m\u001b[1;33m.\u001b[0m\u001b[0mif_to_row\u001b[0m\u001b[1;33m:\u001b[0m\u001b[1;33m\u001b[0m\u001b[1;33m\u001b[0m\u001b[0m\n\u001b[1;32m---> 25\u001b[1;33m             \u001b[1;32mreturn\u001b[0m \u001b[0mself\u001b[0m\u001b[1;33m.\u001b[0m\u001b[0mif_to_row\u001b[0m\u001b[1;33m[\u001b[0m\u001b[0mlaptop_id\u001b[0m\u001b[1;33m]\u001b[0m\u001b[1;33m\u001b[0m\u001b[1;33m\u001b[0m\u001b[0m\n\u001b[0m\u001b[0;32m     26\u001b[0m         \u001b[1;32mreturn\u001b[0m \u001b[1;32mNone\u001b[0m\u001b[1;33m\u001b[0m\u001b[1;33m\u001b[0m\u001b[0m\n\u001b[0;32m     27\u001b[0m \u001b[1;33m\u001b[0m\u001b[0m\n",
      "\u001b[1;31mKeyError\u001b[0m: '2281309'"
     ]
    }
   ],
   "source": [
    "## Now we will compare both methods\n",
    "import time\n",
    "import random\n",
    "\n",
    "ids = [str(random.randint(1000000,9999999)) for i in range(10001)]\n",
    "\n",
    "inventory = Inventory('laptops.csv')\n",
    "total_time_no_dict = 0\n",
    "for i in ids:\n",
    "    start = time.time()\n",
    "    inventory.get_laptop_from_id(i)\n",
    "    end = time.time()\n",
    "    total_time_no_dict += end - start\n",
    "    \n",
    "total_time_dict = 0\n",
    "for i in ids:\n",
    "    start = time.time()\n",
    "    inventory.get_laptop_from_id_fast(i)\n",
    "    end = time.time()\n",
    "    total_time_dict += end - start\n",
    "    \n",
    "print(total_time_no_dict,'\\n')\n",
    "print(total_time_dict)"
   ]
  },
  {
   "cell_type": "markdown",
   "metadata": {},
   "source": [
    "## Looking up two laptops under promotion\n",
    "In a situation where a customer has a gift card and wants to purchase two laptops, the customer needs to know if they can spend the entire amount in the gift card to purchase laptops. With this next function, given a sollar amount, it can check whether it is possible to spend precisely that amount by purchasign up to two laptops."
   ]
  },
  {
   "cell_type": "code",
   "execution_count": 8,
   "metadata": {},
   "outputs": [
    {
     "name": "stdout",
     "output_type": "stream",
     "text": [
      "True\n",
      "False\n"
     ]
    }
   ],
   "source": [
    "class Inventory():\n",
    "    \n",
    "    def __init__(self, csv_filename):\n",
    "        with open(csv_filename) as f:\n",
    "            reader = csv.reader(f)\n",
    "            rows = list(reader)\n",
    "            \n",
    "        self.header = rows[0]\n",
    "        self.rows = rows[1:]\n",
    "        for row in self.rows:\n",
    "            row[-1] = int(float(row[-1]))\n",
    "        \n",
    "        self.if_to_row = {}\n",
    "        for row in self.rows:\n",
    "            self.if_to_row[row[0]] = row\n",
    "        \n",
    "    def get_laptop_from_id(self, laptop_id):\n",
    "        for row in self.rows:\n",
    "            if row[0] == laptop_id:\n",
    "                return row\n",
    "        return None\n",
    "    \n",
    "    def get_laptop_from_id_fast(self, laptop_id):\n",
    "        for row in self.if_to_row:\n",
    "            return self.if_to_row[laptop_id]\n",
    "        return None\n",
    "    \n",
    "    def check_promotion_dollars(self, euros):\n",
    "        for row in self.rows:\n",
    "            if row[-1] == euros:\n",
    "                return True\n",
    "        for i in self.rows:\n",
    "            for j in self.rows:\n",
    "                if i[-1] + j[-1] == euros:\n",
    "                    return True\n",
    "        return False\n",
    "    \n",
    "inventory = Inventory('laptops.csv')\n",
    "print(inventory.check_promotion_dollars(1000))\n",
    "print(inventory.check_promotion_dollars(442))\n",
    "            "
   ]
  },
  {
   "cell_type": "markdown",
   "metadata": {},
   "source": [
    "This shows that a laptop of price `1,000 Euros` is in our inventory but a laptop of price `442 Euros` is not in our inventory"
   ]
  },
  {
   "cell_type": "markdown",
   "metadata": {},
   "source": [
    "## Making the lookup for two laptops under promotion run faster"
   ]
  },
  {
   "cell_type": "code",
   "execution_count": 21,
   "metadata": {},
   "outputs": [
    {
     "name": "stdout",
     "output_type": "stream",
     "text": [
      "True\n",
      "False\n"
     ]
    }
   ],
   "source": [
    "class Inventory():\n",
    "    \n",
    "    def __init__(self, csv_filename):\n",
    "        with open(csv_filename) as f:\n",
    "            reader = csv.reader(f)\n",
    "            rows = list(reader)\n",
    "            \n",
    "        self.header = rows[0]\n",
    "        self.rows = rows[1:]\n",
    "        for row in self.rows:\n",
    "            row[-1] = int(float(row[-1]))\n",
    "        \n",
    "        self.if_to_row = {}\n",
    "        for row in self.rows:\n",
    "            self.if_to_row[row[0]] = row\n",
    "            \n",
    "        self.prices = set()\n",
    "        for row in self.rows:\n",
    "            self.prices.add(row[-1])\n",
    "        \n",
    "    def get_laptop_from_id(self, laptop_id):\n",
    "        for row in self.rows:\n",
    "            if row[0] == laptop_id:\n",
    "                return row\n",
    "        return None\n",
    "    \n",
    "    def get_laptop_from_id_fast(self, laptop_id):\n",
    "        for row in self.if_to_row:\n",
    "            return self.if_to_row[laptop_id]\n",
    "        return None\n",
    "    \n",
    "    def check_promotion_dollars(self, euros):\n",
    "        for row in self.rows:\n",
    "            if row[-1] == euros:\n",
    "                return True\n",
    "        for i in self.rows:\n",
    "            for j in self.rows:\n",
    "                if i[-1] + j[-1] == euros:\n",
    "                    return True\n",
    "        return False\n",
    "    \n",
    "    def check_promotion_dollars_fast(self, euros):\n",
    "        if euros in self.prices:\n",
    "            return True\n",
    "        for price in self.prices:\n",
    "            if euros - price in self.prices:\n",
    "                return True\n",
    "        return False\n",
    "    \n",
    "inventory = Inventory('laptops.csv')\n",
    "print(inventory.check_promotion_dollars_fast(1000))\n",
    "print(inventory.check_promotion_dollars_fast(442))"
   ]
  },
  {
   "cell_type": "markdown",
   "metadata": {},
   "source": [
    "## Comparing the performance of both promotion lookup algorithms"
   ]
  },
  {
   "cell_type": "code",
   "execution_count": 23,
   "metadata": {},
   "outputs": [
    {
     "name": "stdout",
     "output_type": "stream",
     "text": [
      "8.992997884750366\n",
      "0.003989219665527344\n"
     ]
    }
   ],
   "source": [
    "prices = [random.randint(100,500) for _ in range(100)]\n",
    "inventory = Inventory('laptops.csv')\n",
    "\n",
    "total_time_no_set = 0\n",
    "for price in prices:\n",
    "    start = time.time()\n",
    "    inventory.check_promotion_dollars(price)\n",
    "    end = time.time()\n",
    "    total_time_no_set += end-start\n",
    "    \n",
    "total_time_set = 0\n",
    "for price in prices:\n",
    "    start = time.time()\n",
    "    inventory.check_promotion_dollars_fast(price)\n",
    "    end = time.time()\n",
    "    total_time_set += end-start\n",
    "    \n",
    "print(total_time_no_set)\n",
    "print(total_time_set)"
   ]
  },
  {
   "cell_type": "markdown",
   "metadata": {},
   "source": [
    "As we can see in the program above, the time it takes for the function without the set takes over `(8.99/0.0039 = 2,300)` times more to run compared to the function with the set\n",
    "\n",
    "## Finding Laptops Within a Budget\n",
    "Here, binary search will be used to make the process faster"
   ]
  },
  {
   "cell_type": "code",
   "execution_count": 34,
   "metadata": {},
   "outputs": [
    {
     "name": "stdout",
     "output_type": "stream",
     "text": [
      "977\n",
      "-1\n"
     ]
    }
   ],
   "source": [
    "def row_price(row):\n",
    "    return row[-1]\n",
    "\n",
    "class Inventory():\n",
    "    \n",
    "    def __init__(self, csv_filename):\n",
    "        with open(csv_filename) as f:\n",
    "            reader = csv.reader(f)\n",
    "            rows = list(reader)\n",
    "            \n",
    "        self.header = rows[0]\n",
    "        self.rows = rows[1:]\n",
    "        for row in self.rows:\n",
    "            row[-1] = int(float(row[-1]))\n",
    "        \n",
    "        self.if_to_row = {}\n",
    "        for row in self.rows:\n",
    "            self.if_to_row[row[0]] = row\n",
    "            \n",
    "        self.prices = set()\n",
    "        for row in self.rows:\n",
    "            self.prices.add(row[-1])\n",
    "        self.rows_by_price = sorted(self.rows, key=row_price)    \n",
    "        \n",
    "        \n",
    "    def get_laptop_from_id(self, laptop_id):\n",
    "        for row in self.rows:\n",
    "            if row[0] == laptop_id:\n",
    "                return row\n",
    "        return None\n",
    "    \n",
    "    def get_laptop_from_id_fast(self, laptop_id):\n",
    "        for row in self.if_to_row:\n",
    "            return self.if_to_row[laptop_id]\n",
    "        return None\n",
    "    \n",
    "    def check_promotion_dollars(self, euros):\n",
    "        for row in self.rows:\n",
    "            if row[-1] == euros:\n",
    "                return True\n",
    "        for i in self.rows:\n",
    "            for j in self.rows:\n",
    "                if i[-1] + j[-1] == euros:\n",
    "                    return True\n",
    "        return False\n",
    "    \n",
    "    def check_promotion_dollars_fast(self, euros):\n",
    "        if euros in self.prices:\n",
    "            return True\n",
    "        for price in self.prices:\n",
    "            if euros - price in self.prices:\n",
    "                return True\n",
    "        return False\n",
    "    \n",
    "    def find_laptop_with_price(self, target_price):\n",
    "        range_start = 0\n",
    "        range_end = len(self.rows_by_price) - 1\n",
    "        while range_start < range_end:\n",
    "            range_middle = (range_end + range_Start) // 2\n",
    "            price = self.rows_by_price[range_middle][-1]\n",
    "            if price == target_price:\n",
    "                return range_middle\n",
    "            elif value < target_value:\n",
    "                range_Start = range_middle + 1\n",
    "            else:\n",
    "                range_end = range_middle - 1\n",
    "        price = self.rows_by_price[range_start][-1]\n",
    "        if price != target_price:\n",
    "            return -1\n",
    "        return range_start\n",
    "    \n",
    "    def find_first_laptop_more_expensive(self, target_price):\n",
    "        range_start = 0\n",
    "        range_end = len(self.rows_by_price) - 1\n",
    "        while range_start < range_end:\n",
    "            range_middle = (range_end + range_start) // 2\n",
    "            price = self.rows_by_price[range_middle][-1]\n",
    "            if price > target_price:\n",
    "                return range_middle\n",
    "            else:\n",
    "                range_start = range_middle + 1\n",
    "        price = self.rows_by_price[range_start][-1]\n",
    "        if price <= target_price:\n",
    "            return -1\n",
    "        return range_start    \n",
    "    \n",
    "inventory = Inventory('laptops.csv')\n",
    "print(inventory.find_first_laptop_more_expensive(1000))\n",
    "print(inventory.find_first_laptop_more_expensive(10000))"
   ]
  }
 ],
 "metadata": {
  "kernelspec": {
   "display_name": "Python 3",
   "language": "python",
   "name": "python3"
  },
  "language_info": {
   "codemirror_mode": {
    "name": "ipython",
    "version": 3
   },
   "file_extension": ".py",
   "mimetype": "text/x-python",
   "name": "python",
   "nbconvert_exporter": "python",
   "pygments_lexer": "ipython3",
   "version": "3.7.4"
  }
 },
 "nbformat": 4,
 "nbformat_minor": 2
}
